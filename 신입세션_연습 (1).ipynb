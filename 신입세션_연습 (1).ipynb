{
 "cells": [
  {
   "cell_type": "code",
   "execution_count": 1,
   "id": "8be7ca31",
   "metadata": {},
   "outputs": [
    {
     "name": "stdout",
     "output_type": "stream",
     "text": [
      "안녕하세요\n"
     ]
    }
   ],
   "source": [
    "print('안녕하세요')\n"
   ]
  },
  {
   "cell_type": "markdown",
   "id": "b7d08ef5",
   "metadata": {},
   "source": [
    "# 안녕하세요\n",
    "- 안녕\n",
    "- 니하오"
   ]
  },
  {
   "cell_type": "markdown",
   "id": "bb9ed6a7",
   "metadata": {},
   "source": [
    "## 타이타닉"
   ]
  },
  {
   "cell_type": "code",
   "execution_count": null,
   "id": "7e1086c1",
   "metadata": {},
   "outputs": [],
   "source": []
  }
 ],
 "metadata": {
  "kernelspec": {
   "display_name": "Python 3",
   "language": "python",
   "name": "python3"
  },
  "language_info": {
   "codemirror_mode": {
    "name": "ipython",
    "version": 3
   },
   "file_extension": ".py",
   "mimetype": "text/x-python",
   "name": "python",
   "nbconvert_exporter": "python",
   "pygments_lexer": "ipython3",
   "version": "3.8.8"
  }
 },
 "nbformat": 4,
 "nbformat_minor": 5
}
